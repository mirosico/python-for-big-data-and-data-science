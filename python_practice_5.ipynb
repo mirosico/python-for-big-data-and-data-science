{
  "nbformat": 4,
  "nbformat_minor": 0,
  "metadata": {
    "colab": {
      "provenance": [],
      "include_colab_link": true
    },
    "kernelspec": {
      "name": "python3",
      "display_name": "Python 3"
    },
    "language_info": {
      "name": "python"
    }
  },
  "cells": [
    {
      "cell_type": "markdown",
      "metadata": {
        "id": "view-in-github",
        "colab_type": "text"
      },
      "source": [
        "<a href=\"https://colab.research.google.com/github/mirosico/python-for-big-data-and-data-science/blob/main/python_practice_5.ipynb\" target=\"_parent\"><img src=\"https://colab.research.google.com/assets/colab-badge.svg\" alt=\"Open In Colab\"/></a>"
      ]
    },
    {
      "cell_type": "markdown",
      "source": [
        "# I. OOP"
      ],
      "metadata": {
        "id": "5qV_sehzFCTp"
      }
    },
    {
      "cell_type": "markdown",
      "source": [
        "1. (6б). Створіть клас Animal, додайте три атрибути, один з яких має значення за замовчуванням та два методи на свій розсуд."
      ],
      "metadata": {
        "id": "tx_U_hOALyfg"
      }
    },
    {
      "cell_type": "code",
      "source": [
        "class Animal:\n",
        "  def __init__(self, species, sound, color='Brown'):\n",
        "      self.species = species\n",
        "      self.sound = sound\n",
        "      self.color = color\n",
        "\n",
        "  def make_sound(self):\n",
        "    return f\"The {self.species} makes a {self.sound} sound.\"\n",
        "\n",
        "  def change_color(self, new_color):\n",
        "    self.color = new_color\n",
        "    return new_color"
      ],
      "metadata": {
        "id": "-Vf895KaL88N"
      },
      "execution_count": 17,
      "outputs": []
    },
    {
      "cell_type": "markdown",
      "source": [
        "2. (2б). Створіть два обʼєкти цього класу, де один з обʼєктів створюється із дефолтним значенням атрибуту. На одному обʼєкті отримайте значення його атрибуту, а на іншому викличте один з його методів."
      ],
      "metadata": {
        "id": "X_UlOMB0L93w"
      }
    },
    {
      "cell_type": "code",
      "source": [
        "lion = Animal('Lion', 'Roar', 'Yellow')\n",
        "print(lion.make_sound())\n",
        "cow = Animal('Cow', 'Moo')\n",
        "print(cow.color)"
      ],
      "metadata": {
        "id": "7gBu0ESOMCpG",
        "colab": {
          "base_uri": "https://localhost:8080/"
        },
        "outputId": "b09e7f94-da0e-44a3-a236-299a0c941464"
      },
      "execution_count": 18,
      "outputs": [
        {
          "output_type": "stream",
          "name": "stdout",
          "text": [
            "The Lion makes a Roar sound.\n",
            "Brown\n"
          ]
        }
      ]
    },
    {
      "cell_type": "markdown",
      "source": [
        "3. (5б). Створіть клас, де атрибути мають різні рівні доступу. Спробуйте отримати їхні значення та опишіть результати."
      ],
      "metadata": {
        "id": "HoqSCZt1MHn5"
      }
    },
    {
      "cell_type": "code",
      "source": [
        "class MyClass:\n",
        "  def __init__(self):\n",
        "      self.public_attribute = \"public\"\n",
        "      self._protected_attribute = \"protected\"\n",
        "      self.__private_attribute = \"private\"\n",
        "\n",
        "obj = MyClass()\n",
        "\n",
        "print(obj.public_attribute) # публічний атрибут завжди доступний\n",
        "print(obj._protected_attribute) # protected доступний тільки в межах класу та нащадків\n",
        "# print(obj.__private_attribute) # private доступний тільки в межах класу\n",
        "\n"
      ],
      "metadata": {
        "id": "r9b3vJxBMSPV",
        "colab": {
          "base_uri": "https://localhost:8080/"
        },
        "outputId": "91eb1df7-cce6-416f-b26a-8d840e6cc821"
      },
      "execution_count": 19,
      "outputs": [
        {
          "output_type": "stream",
          "name": "stdout",
          "text": [
            "public\n",
            "protected\n"
          ]
        }
      ]
    },
    {
      "cell_type": "markdown",
      "source": [
        "4. (7б). Як ви розумієте термін self? Для чого використовується метод __init __?"
      ],
      "metadata": {
        "id": "5op2m2vgMSkZ"
      }
    },
    {
      "cell_type": "markdown",
      "source": [
        "self - це посилання на об*єкт, який створюється, або з якими взаємодіють через методи класу\n",
        "\n",
        "__init __ - це конструктор класу, використовується для ініціалізації полів об*єкту"
      ],
      "metadata": {
        "id": "DyiPqNRvMasx"
      }
    },
    {
      "cell_type": "markdown",
      "source": [
        "5. (9б). Створіть клас Фігура без атрибутів, з методом get_area для отримання площі фігури, що повертає 0 та __add __, який приймає self та other в якості аргументів, а повертає суму площин фігур self та other."
      ],
      "metadata": {
        "id": "-6X8EGfjMd2y"
      }
    },
    {
      "cell_type": "code",
      "source": [
        "class Shape:\n",
        "  def get_area(self):\n",
        "      return 0\n",
        "\n",
        "  def __add__(self, other):\n",
        "      return self.get_area() + other.get_area()"
      ],
      "metadata": {
        "id": "4rvO_wYUMaEr"
      },
      "execution_count": 20,
      "outputs": []
    },
    {
      "cell_type": "markdown",
      "source": [
        "6. (11б). Створіть 2 дочірніх класи від Фігури: Трикутник та Коло, які мають атрибути, необхідні для розрахунку площин. Визначте метод get_area в кожному з них так, щоби вони розраховували площу в залежності від формули для кожного типу фігури. Створіть обʼєкт класу Трикутник та обʼєкт класу Коло. Виконайте операцію суми за допомогою оператора + між ними."
      ],
      "metadata": {
        "id": "SFcKnnv5Mo_z"
      }
    },
    {
      "cell_type": "code",
      "source": [
        "import math\n",
        "\n",
        "class Triangle(Shape):\n",
        "  def __init__(self, base, height):\n",
        "      self.base = base\n",
        "      self.height = height\n",
        "\n",
        "  def get_area(self):\n",
        "      return 0.5 * self.base * self.height\n",
        "\n",
        "class Circle(Shape):\n",
        "  def __init__(self, radius):\n",
        "      self.radius = radius\n",
        "\n",
        "  def get_area(self):\n",
        "      return math.pi * (self.radius ** 2)\n",
        "\n",
        "triangle = Triangle(4, 3)\n",
        "circle = Circle(5)\n",
        "\n",
        "total_area = triangle + circle\n",
        "print(total_area)\n"
      ],
      "metadata": {
        "id": "H3GVNr69Muf3",
        "colab": {
          "base_uri": "https://localhost:8080/"
        },
        "outputId": "05cd30fd-9413-47b2-9699-761d71eb7e4f"
      },
      "execution_count": 21,
      "outputs": [
        {
          "output_type": "stream",
          "name": "stdout",
          "text": [
            "84.53981633974483\n"
          ]
        }
      ]
    },
    {
      "cell_type": "markdown",
      "source": [
        "7. (3б). Продемонструйте різницю між isinstance та issubclass."
      ],
      "metadata": {
        "id": "HCvR206YMvLK"
      }
    },
    {
      "cell_type": "code",
      "source": [
        "parent_obj = Shape()\n",
        "child_obj = Circle(3)\n",
        "\n",
        "print(isinstance(parent_obj, Shape))\n",
        "print(isinstance(child_obj, Shape))\n",
        "print(isinstance(parent_obj, Circle))\n",
        "\n",
        "print(issubclass(Circle, Shape))\n",
        "print(issubclass(Triangle, Circle))"
      ],
      "metadata": {
        "id": "L_V1bBvDM0GN",
        "colab": {
          "base_uri": "https://localhost:8080/"
        },
        "outputId": "d459329e-1f42-41e0-a6e5-7638eae10a58"
      },
      "execution_count": 22,
      "outputs": [
        {
          "output_type": "stream",
          "name": "stdout",
          "text": [
            "True\n",
            "True\n",
            "False\n",
            "True\n",
            "False\n"
          ]
        }
      ]
    },
    {
      "cell_type": "markdown",
      "source": [
        "8. (13б). Створіть клас BankAccount з приватними атрибутами balance та account_number. Реалізуйте методи поповнення та зняття коштів, забезпечивши належну інкапсуляцію. Підказка: використовуйте декоратори property та setter."
      ],
      "metadata": {
        "id": "jjsaBZ-iM0Qq"
      }
    },
    {
      "cell_type": "code",
      "source": [
        "class BankAccount:\n",
        "  def __init__(self, account_number, initial_balance=0):\n",
        "      self._account_number = account_number\n",
        "      self._balance = initial_balance\n",
        "\n",
        "  @property\n",
        "  def balance(self):\n",
        "      return self._balance\n",
        "\n",
        "  @property\n",
        "  def account_number(self):\n",
        "      return self._account_number\n",
        "\n",
        "  @balance.setter\n",
        "  def balance(self, new_balance):\n",
        "      if new_balance >= 0:\n",
        "          self._balance = new_balance\n",
        "      else:\n",
        "          print(\"Balance cannot be negative.\")\n",
        "\n",
        "  def deposit(self, amount):\n",
        "      self.balance += amount\n",
        "\n",
        "  def withdraw(self, amount):\n",
        "      self.balance -= amount\n",
        "\n",
        "\n",
        "account = BankAccount(account_number=\"123456\")\n",
        "account.deposit(1000)\n",
        "print(account.balance)\n",
        "\n",
        "account.withdraw(500)\n",
        "print(account.balance)\n",
        "\n"
      ],
      "metadata": {
        "id": "xCvZ7lh8M7YA",
        "colab": {
          "base_uri": "https://localhost:8080/"
        },
        "outputId": "27eefd77-3760-427d-8f23-28f680b4eab4"
      },
      "execution_count": 23,
      "outputs": [
        {
          "output_type": "stream",
          "name": "stdout",
          "text": [
            "1000\n",
            "500\n"
          ]
        }
      ]
    },
    {
      "cell_type": "markdown",
      "source": [
        "9. (11б). Створіть клас Library, який містить список об'єктів типу Book. Реалізуйте методи для додавання книги, видалення книги та відображення списку книг."
      ],
      "metadata": {
        "id": "tIzL2SJTM8ft"
      }
    },
    {
      "cell_type": "code",
      "source": [
        "class Book:\n",
        "    def __init__(self, title, author):\n",
        "      self.title = title\n",
        "      self.author = author\n",
        "\n",
        "class Library:\n",
        "  def __init__(self, books=[]):\n",
        "    self._books = books\n",
        "\n",
        "  def add_book(self, book):\n",
        "    self._books.append(book)\n",
        "\n",
        "  def remove_book(self, title):\n",
        "    self._books = list(filter(lambda book: book.title != title, self._books))\n",
        "\n",
        "  def display_books(self):\n",
        "      if self._books:\n",
        "        for book in self._books:\n",
        "          print(f\"'{book.title}' by {book.author}\")\n",
        "\n",
        "library = Library()\n",
        "\n",
        "book1 = Book(\"Harry Potter\", \"Rowling\")\n",
        "book2 = Book(\"GOT\", \"Martin\")\n",
        "library.add_book(book1)\n",
        "library.add_book(book2)\n",
        "library.remove_book(\"GOT\")\n",
        "\n",
        "library.display_books()\n"
      ],
      "metadata": {
        "id": "HWxfJKLtNAUZ",
        "colab": {
          "base_uri": "https://localhost:8080/"
        },
        "outputId": "1cabc42d-dacb-4ac3-f32c-bc2f02ef71d7"
      },
      "execution_count": 26,
      "outputs": [
        {
          "output_type": "stream",
          "name": "stdout",
          "text": [
            "'Harry Potter' by Rowling\n"
          ]
        }
      ]
    },
    {
      "cell_type": "markdown",
      "source": [
        "10. (13б). Створіть клас Person з атрибутами name та age. Створіть ще один клас Employee з такими атрибутами, як department та salary. Створіть клас Manager, який успадковує обидва класи Person та Employee. Продемонструйте використання множинної спадковості, створивши обʼєкт класу Manager та отримавши mro для цього класу."
      ],
      "metadata": {
        "id": "lmV8pAwwNIqu"
      }
    },
    {
      "cell_type": "code",
      "source": [
        "class Person:\n",
        "  def __init__(self, name, age):\n",
        "    self.name = name\n",
        "    self.age = age\n",
        "\n",
        "class Employee:\n",
        "  def __init__(self, department, salary):\n",
        "    self.department = department\n",
        "    self.salary = salary\n",
        "\n",
        "class Manager(Person, Employee):\n",
        "  def __init__(self, name, age, department, salary):\n",
        "    Person.__init__(self, name, age)\n",
        "    Employee.__init__(self, department, salary)\n",
        "\n",
        "manager = Manager(\"Yurii\", 24, \"It\", 100000)\n",
        "\n",
        "\n",
        "print(\"MRO:\", Manager.mro())\n"
      ],
      "metadata": {
        "id": "R49grKlWNPeN",
        "colab": {
          "base_uri": "https://localhost:8080/"
        },
        "outputId": "2d3b6f28-7a21-43a2-a359-a6b8acf9dc8f"
      },
      "execution_count": 29,
      "outputs": [
        {
          "output_type": "stream",
          "name": "stdout",
          "text": [
            "MRO: [<class '__main__.Manager'>, <class '__main__.Person'>, <class '__main__.Employee'>, <class 'object'>]\n"
          ]
        }
      ]
    },
    {
      "cell_type": "markdown",
      "source": [
        "# II. Iterator"
      ],
      "metadata": {
        "id": "dIJyUiNBFG8G"
      }
    },
    {
      "cell_type": "markdown",
      "source": [
        "11. (4б). Визначте рядок(str) з 4ма різними за значенням символами. Створіть ітератор на основі цього рядка. Викличте 5 разів функцію next на ітераторі, 4ри перших з них огорніть у ф-цію print()."
      ],
      "metadata": {
        "id": "13vsm0NyKIzL"
      }
    },
    {
      "cell_type": "code",
      "source": [
        "my_string = \"abcd\"\n",
        "\n",
        "my_iterator = iter(my_string)\n",
        "\n",
        "print(next(my_iterator))\n",
        "print(next(my_iterator))\n",
        "print(next(my_iterator))\n",
        "print(next(my_iterator))\n",
        "# next(my_iterator) - помилка\n",
        "\n"
      ],
      "metadata": {
        "id": "81ntabAkKuz-",
        "colab": {
          "base_uri": "https://localhost:8080/"
        },
        "outputId": "750e5f5b-5fb4-4146-e2c6-bd1b3beab1b5"
      },
      "execution_count": 33,
      "outputs": [
        {
          "output_type": "stream",
          "name": "stdout",
          "text": [
            "a\n",
            "b\n",
            "c\n",
            "d\n"
          ]
        }
      ]
    },
    {
      "cell_type": "markdown",
      "source": [
        "А що якщо викликати цю ж функцію на рядку?"
      ],
      "metadata": {
        "id": "aekWHGXOLRsO"
      }
    },
    {
      "cell_type": "code",
      "source": [
        "next(my_string)"
      ],
      "metadata": {
        "id": "mxATGsErLV1i",
        "colab": {
          "base_uri": "https://localhost:8080/",
          "height": 141
        },
        "outputId": "d57d166b-87b5-47ac-a5bd-7a56fb06d7fa"
      },
      "execution_count": 34,
      "outputs": [
        {
          "output_type": "error",
          "ename": "TypeError",
          "evalue": "'str' object is not an iterator",
          "traceback": [
            "\u001b[0;31m---------------------------------------------------------------------------\u001b[0m",
            "\u001b[0;31mTypeError\u001b[0m                                 Traceback (most recent call last)",
            "\u001b[0;32m<ipython-input-34-536fe210e95a>\u001b[0m in \u001b[0;36m<cell line: 1>\u001b[0;34m()\u001b[0m\n\u001b[0;32m----> 1\u001b[0;31m \u001b[0mnext\u001b[0m\u001b[0;34m(\u001b[0m\u001b[0mmy_string\u001b[0m\u001b[0;34m)\u001b[0m\u001b[0;34m\u001b[0m\u001b[0;34m\u001b[0m\u001b[0m\n\u001b[0m",
            "\u001b[0;31mTypeError\u001b[0m: 'str' object is not an iterator"
          ]
        }
      ]
    },
    {
      "cell_type": "markdown",
      "source": [
        " 12. (5б). Опишіть своїми словами в одному реченні, як ви розумієте різницю між ітерабельними обʼєктами та ітераторами (можна на прикладі)."
      ],
      "metadata": {
        "id": "XwtMEopwJ4pH"
      }
    },
    {
      "cell_type": "markdown",
      "source": [
        "Ітерабельний об*єкт можна перебрати за допомогою ітератора, тоді як ітератор - це об*єкт, який відповідає за послідовне отримання елементів."
      ],
      "metadata": {
        "id": "-sHrODc3KFn8"
      }
    },
    {
      "cell_type": "markdown",
      "source": [
        "13. (11б). Створіть клас, що має визначений Iterator Protocol та при кожному виклику next повертає літери англійської абетки, поки вони не вичерпаються."
      ],
      "metadata": {
        "id": "E9qJWmNbK8Gl"
      }
    },
    {
      "cell_type": "code",
      "source": [
        "class EnglishAlphabetIterator:\n",
        "    def __init__(self):\n",
        "        self.current_letter = ord('a')\n",
        "\n",
        "    def __iter__(self):\n",
        "        return self\n",
        "\n",
        "    def __next__(self):\n",
        "        if self.current_letter <= ord('z'):\n",
        "            letter = chr(self.current_letter)\n",
        "            self.current_letter += 1\n",
        "            return letter\n",
        "        else:\n",
        "            raise StopIteration\n",
        "\n",
        "iterator = EnglishAlphabetIterator()\n",
        "\n",
        "for _ in range(26):\n",
        "    print(next(iterator))\n"
      ],
      "metadata": {
        "id": "cqx-g_RsLo6I",
        "colab": {
          "base_uri": "https://localhost:8080/"
        },
        "outputId": "28b0b217-7df2-42a7-a958-551cfbd5c7ef"
      },
      "execution_count": 35,
      "outputs": [
        {
          "output_type": "stream",
          "name": "stdout",
          "text": [
            "a\n",
            "b\n",
            "c\n",
            "d\n",
            "e\n",
            "f\n",
            "g\n",
            "h\n",
            "i\n",
            "j\n",
            "k\n",
            "l\n",
            "m\n",
            "n\n",
            "o\n",
            "p\n",
            "q\n",
            "r\n",
            "s\n",
            "t\n",
            "u\n",
            "v\n",
            "w\n",
            "x\n",
            "y\n",
            "z\n"
          ]
        }
      ]
    },
    {
      "cell_type": "markdown",
      "source": [
        "# Вітаю! Ви велика(ий) молодець, що впоралась(вся). Похваліть себе та побалуйте чимось приємним. Я Вами пишаюся."
      ],
      "metadata": {
        "id": "Z3E3S_s1Fv7-"
      }
    }
  ]
}